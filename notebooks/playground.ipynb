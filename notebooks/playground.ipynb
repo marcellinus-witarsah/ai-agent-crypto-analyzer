{
 "cells": [
  {
   "cell_type": "code",
   "execution_count": 1,
   "id": "c5c8cd99",
   "metadata": {},
   "outputs": [],
   "source": [
    "import pandas as pd"
   ]
  },
  {
   "cell_type": "code",
   "execution_count": 8,
   "id": "f782b2b3",
   "metadata": {},
   "outputs": [
    {
     "name": "stdout",
     "output_type": "stream",
     "text": [
      "8978\n",
      "8978\n",
      "8978\n",
      "8978\n",
      "8978\n",
      "8978\n",
      "8978\n",
      "8978\n",
      "8978\n",
      "8978\n",
      "7\n"
     ]
    }
   ],
   "source": [
    "df = pd.read_parquet(\"C:/Users/USER/projects/ai-agent-crypto-analyzer/tmp/20131006_20250331_XXBTZUSD_ohlc_hourly.parquet\")\n",
    "batch_size = len(df) // 10\n",
    "for idx in range(0, len(df), batch_size):\n",
    "    print(len(df.iloc[idx:idx+batch_size]))"
   ]
  }
 ],
 "metadata": {
  "kernelspec": {
   "display_name": "venv",
   "language": "python",
   "name": "python3"
  },
  "language_info": {
   "codemirror_mode": {
    "name": "ipython",
    "version": 3
   },
   "file_extension": ".py",
   "mimetype": "text/x-python",
   "name": "python",
   "nbconvert_exporter": "python",
   "pygments_lexer": "ipython3",
   "version": "3.10.0"
  }
 },
 "nbformat": 4,
 "nbformat_minor": 5
}
