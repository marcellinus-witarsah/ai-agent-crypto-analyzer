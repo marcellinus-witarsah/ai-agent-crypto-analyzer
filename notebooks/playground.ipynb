{
 "cells": [
  {
   "cell_type": "code",
   "execution_count": 1,
   "id": "c5c8cd99",
   "metadata": {},
   "outputs": [],
   "source": [
    "import pandas as pd"
   ]
  },
  {
   "cell_type": "code",
   "execution_count": 9,
   "id": "f782b2b3",
   "metadata": {},
   "outputs": [
    {
     "data": {
      "text/html": [
       "<div>\n",
       "<style scoped>\n",
       "    .dataframe tbody tr th:only-of-type {\n",
       "        vertical-align: middle;\n",
       "    }\n",
       "\n",
       "    .dataframe tbody tr th {\n",
       "        vertical-align: top;\n",
       "    }\n",
       "\n",
       "    .dataframe thead th {\n",
       "        text-align: right;\n",
       "    }\n",
       "</style>\n",
       "<table border=\"1\" class=\"dataframe\">\n",
       "  <thead>\n",
       "    <tr style=\"text-align: right;\">\n",
       "      <th></th>\n",
       "      <th>time</th>\n",
       "      <th>open</th>\n",
       "      <th>high</th>\n",
       "      <th>low</th>\n",
       "      <th>close</th>\n",
       "      <th>volume</th>\n",
       "      <th>count</th>\n",
       "    </tr>\n",
       "  </thead>\n",
       "  <tbody>\n",
       "    <tr>\n",
       "      <th>89782</th>\n",
       "      <td>1743447600</td>\n",
       "      <td>83286.1</td>\n",
       "      <td>83422.1</td>\n",
       "      <td>82368.9</td>\n",
       "      <td>82394.4</td>\n",
       "      <td>241.135396</td>\n",
       "      <td>3262</td>\n",
       "    </tr>\n",
       "    <tr>\n",
       "      <th>89783</th>\n",
       "      <td>1743451200</td>\n",
       "      <td>82394.5</td>\n",
       "      <td>82798.7</td>\n",
       "      <td>82358.5</td>\n",
       "      <td>82427.7</td>\n",
       "      <td>93.071084</td>\n",
       "      <td>1617</td>\n",
       "    </tr>\n",
       "    <tr>\n",
       "      <th>89784</th>\n",
       "      <td>1743454800</td>\n",
       "      <td>82427.7</td>\n",
       "      <td>82698.9</td>\n",
       "      <td>82427.7</td>\n",
       "      <td>82543.4</td>\n",
       "      <td>30.865337</td>\n",
       "      <td>939</td>\n",
       "    </tr>\n",
       "    <tr>\n",
       "      <th>89785</th>\n",
       "      <td>1743458400</td>\n",
       "      <td>82543.7</td>\n",
       "      <td>82553.4</td>\n",
       "      <td>82259.3</td>\n",
       "      <td>82381.1</td>\n",
       "      <td>41.888085</td>\n",
       "      <td>888</td>\n",
       "    </tr>\n",
       "    <tr>\n",
       "      <th>89786</th>\n",
       "      <td>1743462000</td>\n",
       "      <td>82386.0</td>\n",
       "      <td>82809.1</td>\n",
       "      <td>82305.5</td>\n",
       "      <td>82523.0</td>\n",
       "      <td>27.902205</td>\n",
       "      <td>995</td>\n",
       "    </tr>\n",
       "  </tbody>\n",
       "</table>\n",
       "</div>"
      ],
      "text/plain": [
       "             time     open     high      low    close      volume  count\n",
       "89782  1743447600  83286.1  83422.1  82368.9  82394.4  241.135396   3262\n",
       "89783  1743451200  82394.5  82798.7  82358.5  82427.7   93.071084   1617\n",
       "89784  1743454800  82427.7  82698.9  82427.7  82543.4   30.865337    939\n",
       "89785  1743458400  82543.7  82553.4  82259.3  82381.1   41.888085    888\n",
       "89786  1743462000  82386.0  82809.1  82305.5  82523.0   27.902205    995"
      ]
     },
     "execution_count": 9,
     "metadata": {},
     "output_type": "execute_result"
    }
   ],
   "source": [
    "df = pd.read_parquet(\"C:/Users/USER/projects/ai-agent-crypto-analyzer/tmp/20131006_20250331_XXBTZUSD_ohlc_hourly.parquet\")\n",
    "# batch_size = len(df) // 10\n",
    "# for idx in range(0, len(df), batch_size):\n",
    "#     print(len(df.iloc[idx:idx+batch_size]))\n",
    "df.tail()"
   ]
  }
 ],
 "metadata": {
  "kernelspec": {
   "display_name": "venv",
   "language": "python",
   "name": "python3"
  },
  "language_info": {
   "codemirror_mode": {
    "name": "ipython",
    "version": 3
   },
   "file_extension": ".py",
   "mimetype": "text/x-python",
   "name": "python",
   "nbconvert_exporter": "python",
   "pygments_lexer": "ipython3",
   "version": "3.10.0"
  }
 },
 "nbformat": 4,
 "nbformat_minor": 5
}
